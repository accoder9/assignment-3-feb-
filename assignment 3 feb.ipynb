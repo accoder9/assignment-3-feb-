{
 "cells": [
  {
   "cell_type": "markdown",
   "id": "3f1026b9-b787-44f8-982a-313aa38143d9",
   "metadata": {},
   "source": [
    "1 Which keyword is used to create a function? Create a function to return a list of odd numbers in the\n",
    "range of 1 to 25."
   ]
  },
  {
   "cell_type": "code",
   "execution_count": 5,
   "id": "ec94a537-8b0f-40a8-ba03-434b4573dc60",
   "metadata": {},
   "outputs": [],
   "source": [
    "#The def Keyword \n",
    "def test(n):\n",
    "    l=[]\n",
    "    for i in range(n):\n",
    "        if i%2!=0:\n",
    "            l.append(i)\n",
    "    print(l)\n",
    "        "
   ]
  },
  {
   "cell_type": "code",
   "execution_count": 6,
   "id": "765602f1-5674-4da0-a755-007d72b6a7e7",
   "metadata": {},
   "outputs": [
    {
     "name": "stdout",
     "output_type": "stream",
     "text": [
      "[1, 3, 5, 7, 9, 11, 13, 15, 17, 19, 21, 23]\n"
     ]
    }
   ],
   "source": [
    "test(25)"
   ]
  },
  {
   "cell_type": "markdown",
   "id": "9838594e-9dee-4e69-94e2-2d0a73e2869a",
   "metadata": {},
   "source": [
    "2 Why *args and **kwargs is used in some functions? Create a function each for *args and **kwargs\n",
    "to demonstrate their use."
   ]
  },
  {
   "cell_type": "markdown",
   "id": "faf79689-31c7-4bd0-93b4-d90ea337c9ad",
   "metadata": {},
   "source": [
    "In Python, we can pass a variable number of arguments to a function using special symbols. These are:\n",
    "\n",
    "*args (Non Keyword Arguments)\n",
    "**kwargs (Keyword Arguments)\n",
    "\n",
    "*args which allow us to pass the variable number of non keyword arguments to function.\n",
    "**kwargs it allows us to pass the variable length of keyword arguments to the function.\n"
   ]
  },
  {
   "cell_type": "code",
   "execution_count": 11,
   "id": "09d2b980-bc20-4e86-95e0-3603e01cd662",
   "metadata": {},
   "outputs": [],
   "source": [
    "# * args Example \n",
    "def test1(*a):\n",
    "    n=0\n",
    "    for i in a:\n",
    "        n=n+i\n",
    "    print(n)"
   ]
  },
  {
   "cell_type": "code",
   "execution_count": 12,
   "id": "8a92c427-248e-46f2-8e94-c40a21f6f0ab",
   "metadata": {},
   "outputs": [
    {
     "name": "stdout",
     "output_type": "stream",
     "text": [
      "9\n"
     ]
    }
   ],
   "source": [
    "test1(2,3,4)"
   ]
  },
  {
   "cell_type": "code",
   "execution_count": 26,
   "id": "28649472-9bd0-4f8c-a67e-72ebc31ada0f",
   "metadata": {},
   "outputs": [],
   "source": [
    "# **kwargs Example\n",
    "def test2(**s):\n",
    "    for k,v in s.items():\n",
    "        print(k,v)\n",
    "    "
   ]
  },
  {
   "cell_type": "code",
   "execution_count": 27,
   "id": "71cb543b-544d-4e91-907a-b1d373e0f442",
   "metadata": {},
   "outputs": [
    {
     "name": "stdout",
     "output_type": "stream",
     "text": [
      "name Sudh\n",
      "Data pwskills\n"
     ]
    }
   ],
   "source": [
    "test2(name=\"Sudh\",Data=\"pwskills\")"
   ]
  },
  {
   "cell_type": "markdown",
   "id": "6f9790f5-37c3-4575-89bf-f09178cf2f60",
   "metadata": {},
   "source": [
    "3.What is an iterator in python? Name the method used to initialise the iterator object and the method\n",
    "used for iteration. Use these methods to print the first five elements of the given list [2, 4, 6, 8, 10, 12, 14,\n",
    "16, 18, 20].\n"
   ]
  },
  {
   "cell_type": "markdown",
   "id": "bed701f0-3015-4282-bf1c-568cc6293771",
   "metadata": {},
   "source": [
    "Iterator in Python is an object that is used to iterate over iterable objects like lists, tuples, dicts, and sets. The iterator object is initialized using the iter() method. It uses the next() method for iteration.\n",
    "__iter__(): The iter() method is called for the initialization of an iterator. This returns an iterator object\n",
    "__next__(): The next method returns the next value for the iterable.\n"
   ]
  },
  {
   "cell_type": "code",
   "execution_count": 1,
   "id": "d76f260a-efa0-42d7-bfdb-4cd7273bda4d",
   "metadata": {},
   "outputs": [
    {
     "name": "stdout",
     "output_type": "stream",
     "text": [
      "2\n",
      "4\n",
      "6\n",
      "8\n",
      "10\n"
     ]
    }
   ],
   "source": [
    "l=[2,4,6,8,10,12,14,16,18,20]\n",
    "s=iter(l)\n",
    "for i in range(5):\n",
    "    print(next(s))"
   ]
  },
  {
   "cell_type": "markdown",
   "id": "60a36d69-5987-4759-829a-3f95f3d48d23",
   "metadata": {},
   "source": [
    "4 What is a generator function in python? Why yield keyword is used? Give an example of a generator function."
   ]
  },
  {
   "cell_type": "markdown",
   "id": "b9484407-0992-4b1c-a782-85ac49922580",
   "metadata": {},
   "source": [
    "Generator-Function: A generator-function is defined like a normal function, but whenever it needs to generate a value, it does so with the yield keyword rather than return. If the body of a def contains yield, the function automatically becomes a generator function. \n",
    "\n",
    "yield keyword is used to create a generator function. A type of function that is memory efficient and can be used like an iterator object.Using yield keyword is highly memory efficient, since the execution happens only when the caller iterates over the object.\n",
    "As the variables states are saved, we can pause and resume from the same point, thus saving time.\n",
    "\n",
    "\n",
    "\n"
   ]
  },
  {
   "cell_type": "code",
   "execution_count": 17,
   "id": "07e4eac8-773a-445c-b3cb-dde0744c2e11",
   "metadata": {},
   "outputs": [],
   "source": [
    "def gen(n):\n",
    "    i=0\n",
    "    while i <(n):\n",
    "        yield(i**2)\n",
    "        i=i+1"
   ]
  },
  {
   "cell_type": "code",
   "execution_count": 20,
   "id": "2410b3cc-9d4c-4279-83e9-b732313041d4",
   "metadata": {},
   "outputs": [],
   "source": [
    "a=gen(5)"
   ]
  },
  {
   "cell_type": "code",
   "execution_count": 22,
   "id": "b74daf4c-eafb-497b-8184-1b8de84fa7ad",
   "metadata": {},
   "outputs": [
    {
     "name": "stdout",
     "output_type": "stream",
     "text": [
      "0\n",
      "1\n",
      "4\n",
      "9\n",
      "16\n"
     ]
    }
   ],
   "source": [
    "for i in range(5):\n",
    "    print(next (a))"
   ]
  },
  {
   "cell_type": "markdown",
   "id": "8eff2fd0-7af5-4323-80a8-a3a3de296c81",
   "metadata": {},
   "source": [
    "5 Create a generator function for prime numbers less than 1000. Use the next() method to print the first 20 prime numbers."
   ]
  },
  {
   "cell_type": "code",
   "execution_count": 23,
   "id": "670ff0e7-6f14-4740-895d-28b07f2ffb4c",
   "metadata": {},
   "outputs": [],
   "source": [
    "def gen1(n):\n",
    "    if n<=1000:\n",
    "        for i in range(2,n):\n",
    "            if n%i==0:\n",
    "                return False\n",
    "        else:\n",
    "            return True\n",
    "def prime1(n):\n",
    "    for i in range(2, n + 1):\n",
    "        if gen1(i):\n",
    "            yield i"
   ]
  },
  {
   "cell_type": "code",
   "execution_count": 27,
   "id": "9d6dae4b-4e4d-4da1-9e71-70853d2c12d7",
   "metadata": {},
   "outputs": [],
   "source": [
    "a=prime1(1000)"
   ]
  },
  {
   "cell_type": "code",
   "execution_count": 28,
   "id": "4372d425-b5d2-4f80-adf8-c9a22c3f746e",
   "metadata": {},
   "outputs": [
    {
     "name": "stdout",
     "output_type": "stream",
     "text": [
      "2\n",
      "3\n",
      "5\n",
      "7\n",
      "11\n",
      "13\n",
      "17\n",
      "19\n",
      "23\n",
      "29\n",
      "31\n",
      "37\n",
      "41\n",
      "43\n",
      "47\n",
      "53\n",
      "59\n",
      "61\n",
      "67\n",
      "71\n"
     ]
    }
   ],
   "source": [
    "for i in range(20):\n",
    "    print(next(a))"
   ]
  },
  {
   "cell_type": "markdown",
   "id": "7fa11c6c-3a13-4a7f-8a2d-97b0c23d00d3",
   "metadata": {},
   "source": [
    "6 Write a python program to print the first 10 Fibonacci numbers using a while loop."
   ]
  },
  {
   "cell_type": "code",
   "execution_count": 29,
   "id": "8a8e58bd-4a17-4141-ae38-90df7bc3a95e",
   "metadata": {},
   "outputs": [
    {
     "name": "stdout",
     "output_type": "stream",
     "text": [
      "0\n",
      "1\n",
      "1\n",
      "2\n",
      "3\n",
      "5\n",
      "8\n",
      "13\n",
      "21\n",
      "34\n"
     ]
    }
   ],
   "source": [
    "a=10\n",
    "i=0\n",
    "b=0\n",
    "c=1\n",
    "while i <a:\n",
    "    print(b)\n",
    "    b,c=c,b+c\n",
    "    i=i+1"
   ]
  },
  {
   "cell_type": "markdown",
   "id": "66a40a7c-04d2-4a61-8339-80372d187b93",
   "metadata": {},
   "source": [
    "7  Write a List Comprehension to iterate through the given string: ‘pwskills’.\n",
    "Expected output: ['p', 'w', 's', 'k', 'i', 'l', 'l', 's']"
   ]
  },
  {
   "cell_type": "code",
   "execution_count": 33,
   "id": "c204d44b-ce95-45ce-8d78-9c4a21275ee4",
   "metadata": {},
   "outputs": [
    {
     "data": {
      "text/plain": [
       "['p', 'w', 's', 'k', 'i', 'l', 'l', 's']"
      ]
     },
     "execution_count": 33,
     "metadata": {},
     "output_type": "execute_result"
    }
   ],
   "source": [
    "l=\"pwskills\"\n",
    "[i for i in l]"
   ]
  },
  {
   "cell_type": "markdown",
   "id": "e46f09de-d6fe-4f96-b278-bdd0cef0df40",
   "metadata": {},
   "source": [
    "8.Write a python program to check whether a given number is Palindrome or not using a while loop."
   ]
  },
  {
   "cell_type": "code",
   "execution_count": 34,
   "id": "7eebf9c1-c4ec-4287-bb21-7e1077ed2f72",
   "metadata": {},
   "outputs": [
    {
     "name": "stdin",
     "output_type": "stream",
     "text": [
      "enter 88\n"
     ]
    },
    {
     "name": "stdout",
     "output_type": "stream",
     "text": [
      "palindrome\n"
     ]
    }
   ],
   "source": [
    "a=int(input('enter'))\n",
    "i=0\n",
    "b=a\n",
    "while a>0:\n",
    "    dig=a%10\n",
    "    i=i*10+dig\n",
    "    a=a//10\n",
    "if i==b:\n",
    "    print(\"palindrome\")\n",
    "else:\n",
    "    print(\"not\")"
   ]
  },
  {
   "cell_type": "markdown",
   "id": "602d3020-c12a-42a6-a681-359a2f43aa6a",
   "metadata": {},
   "source": [
    "Write a code to print odd numbers from 1 to 100 using list comprehension."
   ]
  },
  {
   "cell_type": "code",
   "execution_count": 35,
   "id": "9bf38e3d-e6d5-4875-976c-851afb541277",
   "metadata": {},
   "outputs": [
    {
     "data": {
      "text/plain": [
       "[1,\n",
       " 3,\n",
       " 5,\n",
       " 7,\n",
       " 9,\n",
       " 11,\n",
       " 13,\n",
       " 15,\n",
       " 17,\n",
       " 19,\n",
       " 21,\n",
       " 23,\n",
       " 25,\n",
       " 27,\n",
       " 29,\n",
       " 31,\n",
       " 33,\n",
       " 35,\n",
       " 37,\n",
       " 39,\n",
       " 41,\n",
       " 43,\n",
       " 45,\n",
       " 47,\n",
       " 49,\n",
       " 51,\n",
       " 53,\n",
       " 55,\n",
       " 57,\n",
       " 59,\n",
       " 61,\n",
       " 63,\n",
       " 65,\n",
       " 67,\n",
       " 69,\n",
       " 71,\n",
       " 73,\n",
       " 75,\n",
       " 77,\n",
       " 79,\n",
       " 81,\n",
       " 83,\n",
       " 85,\n",
       " 87,\n",
       " 89,\n",
       " 91,\n",
       " 93,\n",
       " 95,\n",
       " 97,\n",
       " 99]"
      ]
     },
     "execution_count": 35,
     "metadata": {},
     "output_type": "execute_result"
    }
   ],
   "source": [
    "a=100\n",
    "[i for i in range(a) if i%2!=0]"
   ]
  },
  {
   "cell_type": "code",
   "execution_count": null,
   "id": "028d82ff-d42d-4f1e-bf45-811df6c495de",
   "metadata": {},
   "outputs": [],
   "source": []
  }
 ],
 "metadata": {
  "kernelspec": {
   "display_name": "Python 3 (ipykernel)",
   "language": "python",
   "name": "python3"
  },
  "language_info": {
   "codemirror_mode": {
    "name": "ipython",
    "version": 3
   },
   "file_extension": ".py",
   "mimetype": "text/x-python",
   "name": "python",
   "nbconvert_exporter": "python",
   "pygments_lexer": "ipython3",
   "version": "3.10.8"
  }
 },
 "nbformat": 4,
 "nbformat_minor": 5
}
